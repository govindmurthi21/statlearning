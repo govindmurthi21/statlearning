{
  "nbformat": 4,
  "nbformat_minor": 0,
  "metadata": {
    "colab": {
      "provenance": [],
      "authorship_tag": "ABX9TyNyEoFTtZZuPUqEIe6kImI3",
      "include_colab_link": true
    },
    "kernelspec": {
      "name": "python3",
      "display_name": "Python 3"
    },
    "language_info": {
      "name": "python"
    }
  },
  "cells": [
    {
      "cell_type": "markdown",
      "metadata": {
        "id": "view-in-github",
        "colab_type": "text"
      },
      "source": [
        "<a href=\"https://colab.research.google.com/github/govindmurthi21/statlearning/blob/main/ragsimple.ipynb\" target=\"_parent\"><img src=\"https://colab.research.google.com/assets/colab-badge.svg\" alt=\"Open In Colab\"/></a>"
      ]
    },
    {
      "cell_type": "code",
      "execution_count": null,
      "metadata": {
        "id": "v0crb9-mUwOp"
      },
      "outputs": [],
      "source": [
        "!pip install -qU \\\n",
        "    langchain==0.0.354 \\\n",
        "    openai==1.6.1 \\\n",
        "    datasets==2.10.1 \\\n",
        "    pinecone-client==3.1.0 \\\n",
        "    tiktoken==0.5.2"
      ]
    },
    {
      "cell_type": "code",
      "source": [
        "from google.colab import userdata;\n",
        "import os;\n",
        "from langchain.chat_models import ChatOpenAI;\n",
        "\n",
        "os.environ[\"OPENAI_API_KEY\"] = userdata.get(\"openapi_key\")\n",
        "\n",
        "chat = ChatOpenAI(\n",
        "    openai_api_key=os.environ[\"OPENAI_API_KEY\"],\n",
        "    model='gpt-3.5-turbo'\n",
        ")"
      ],
      "metadata": {
        "id": "6zP6vxynVxHc"
      },
      "execution_count": 10,
      "outputs": []
    },
    {
      "cell_type": "code",
      "source": [
        "from langchain.schema import (\n",
        "    SystemMessage,\n",
        "    HumanMessage,\n",
        "    AIMessage\n",
        ")\n",
        "\n",
        "messages = [\n",
        "    SystemMessage(content=\"You are a helpful assistant.\"),\n",
        "    HumanMessage(content=\"Hi AI, how are you today?\"),\n",
        "    AIMessage(content=\"I'm great thank you. How can I help you?\"),\n",
        "    HumanMessage(content=\"I'd like to understand string theory.\")\n",
        "]"
      ],
      "metadata": {
        "id": "n06DXB1LWt-X"
      },
      "execution_count": 11,
      "outputs": []
    },
    {
      "cell_type": "code",
      "source": [
        "res = chat(messages)\n",
        "res"
      ],
      "metadata": {
        "colab": {
          "base_uri": "https://localhost:8080/"
        },
        "id": "sLGYrucPWxEd",
        "outputId": "ec0c1fb2-74af-4811-80c5-13882810f9aa"
      },
      "execution_count": 13,
      "outputs": [
        {
          "output_type": "execute_result",
          "data": {
            "text/plain": [
              "AIMessage(content='String theory is a theoretical framework in physics that attempts to reconcile general relativity and quantum mechanics. It posits that the fundamental building blocks of the universe are not point-like particles, but rather tiny, vibrating strings.\\n\\nThese strings can have different vibrational modes, which correspond to different particles with varying properties such as mass and charge. By studying the behavior of these strings, string theory aims to explain the four fundamental forces of nature - gravity, electromagnetism, the weak nuclear force, and the strong nuclear force - in a unified manner.\\n\\nString theory is still a highly speculative and complex area of research, with many unresolved issues and challenges. Researchers continue to explore its implications and potential connections to other areas of physics and cosmology.')"
            ]
          },
          "metadata": {},
          "execution_count": 13
        }
      ]
    },
    {
      "cell_type": "code",
      "source": [
        "print(res.content)"
      ],
      "metadata": {
        "colab": {
          "base_uri": "https://localhost:8080/"
        },
        "id": "fgvcvn5FaOiJ",
        "outputId": "0f932f7e-106b-4875-d7e6-4bb73211488b"
      },
      "execution_count": 14,
      "outputs": [
        {
          "output_type": "stream",
          "name": "stdout",
          "text": [
            "String theory is a theoretical framework in physics that attempts to reconcile general relativity and quantum mechanics. It posits that the fundamental building blocks of the universe are not point-like particles, but rather tiny, vibrating strings.\n",
            "\n",
            "These strings can have different vibrational modes, which correspond to different particles with varying properties such as mass and charge. By studying the behavior of these strings, string theory aims to explain the four fundamental forces of nature - gravity, electromagnetism, the weak nuclear force, and the strong nuclear force - in a unified manner.\n",
            "\n",
            "String theory is still a highly speculative and complex area of research, with many unresolved issues and challenges. Researchers continue to explore its implications and potential connections to other areas of physics and cosmology.\n"
          ]
        }
      ]
    },
    {
      "cell_type": "code",
      "source": [
        "messages.append(res)\n",
        "prompt = HumanMessage(content=\"Why do physicists believe it can produce a unified theory?\")\n",
        "messages.append(prompt)\n",
        "res = chat(messages)\n",
        "print(res.content)"
      ],
      "metadata": {
        "colab": {
          "base_uri": "https://localhost:8080/"
        },
        "id": "rF35POcYaWux",
        "outputId": "72bdd36a-7612-4f98-b218-be3a1e2a23c7"
      },
      "execution_count": 15,
      "outputs": [
        {
          "output_type": "stream",
          "name": "stdout",
          "text": [
            "Physicists are interested in string theory as a potential candidate for a unified theory because it has the potential to describe all fundamental forces and particles within a single framework. This unified theory, often referred to as a \"theory of everything,\" would provide a consistent description of the universe at both the quantum and cosmic scales.\n",
            "\n",
            "One of the key motivations for pursuing a unified theory is to address the shortcomings of current theories. For example, the Standard Model of particle physics successfully describes three of the four fundamental forces but does not include gravity. General relativity, on the other hand, describes gravity but does not incorporate quantum mechanics.\n",
            "\n",
            "String theory offers a way to potentially unify these theories by incorporating gravity within a quantum framework. By treating particles as vibrating strings, string theory naturally includes gravity along with the other fundamental forces. This has led physicists to investigate whether string theory could provide a consistent and comprehensive description of the universe, leading to the pursuit of a unified theory.\n"
          ]
        }
      ]
    },
    {
      "cell_type": "code",
      "source": [
        "messages.append(res)\n",
        "prompt = HumanMessage(content=\"What is so special about Llama 2 and LLMChain in LangChain?\")\n",
        "messages.append(prompt)\n",
        "res = chat(messages)\n",
        "print(res.content)"
      ],
      "metadata": {
        "colab": {
          "base_uri": "https://localhost:8080/"
        },
        "id": "tx1GwHwtb-5A",
        "outputId": "6ff9013e-cc79-4b91-98a8-75634867c182"
      },
      "execution_count": 17,
      "outputs": [
        {
          "output_type": "stream",
          "name": "stdout",
          "text": [
            "I apologize for the confusion, but as of my last update, there is no widely recognized concept or technology called \"Llama 2\" or \"LLMChain in LangChain.\" It is possible that these terms may refer to specific projects, companies, or technologies that are not widely known or recognized.\n",
            "\n",
            "If you can provide more information or context about \"Llama 2\" and \"LLMChain in LangChain,\" I may be able to offer more relevant information or insights.\n"
          ]
        }
      ]
    },
    {
      "cell_type": "code",
      "source": [
        "llmchain_information = [\n",
        "    \"A LLMChain is the most common type of chain. It consists of a PromptTemplate, a model (either an LLM or a ChatModel), and an optional output parser. This chain takes multiple input variables, uses the PromptTemplate to format them into a prompt. It then passes that to the model. Finally, it uses the OutputParser (if provided) to parse the output of the LLM into a final format.\",\n",
        "    \"Chains is an incredibly generic concept which returns to a sequence of modular components (or other chains) combined in a particular way to accomplish a common use case.\",\n",
        "    \"LangChain is a framework for developing applications powered by language models. We believe that the most powerful and differentiated applications will not only call out to a language model via an api, but will also: (1) Be data-aware: connect a language model to other sources of data, (2) Be agentic: Allow a language model to interact with its environment. As such, the LangChain framework is designed with the objective in mind to enable those types of applications.\"\n",
        "]\n",
        "\n",
        "source_knowledge = \"\\n\".join(llmchain_information)"
      ],
      "metadata": {
        "id": "vZGl8Wkqcr20"
      },
      "execution_count": 18,
      "outputs": []
    },
    {
      "cell_type": "code",
      "source": [
        "query = \"Can you tell me about the LLMChain in LangChain?\"\n",
        "\n",
        "augmented_prompt = f\"\"\"Using the contexts below, answer the query.\n",
        "\n",
        "Contexts:\n",
        "{source_knowledge}\n",
        "\n",
        "Query: {query}\"\"\""
      ],
      "metadata": {
        "id": "EcvCeB7McxJm"
      },
      "execution_count": 19,
      "outputs": []
    },
    {
      "cell_type": "code",
      "source": [
        "# create a new user prompt\n",
        "prompt = HumanMessage(\n",
        "    content=augmented_prompt\n",
        ")\n",
        "# add to messages\n",
        "messages.append(prompt)\n",
        "\n",
        "# send to OpenAI\n",
        "res = chat(messages)"
      ],
      "metadata": {
        "id": "A0RAv6Xhcyb3"
      },
      "execution_count": 20,
      "outputs": []
    },
    {
      "cell_type": "code",
      "source": [
        "print(res.content)"
      ],
      "metadata": {
        "colab": {
          "base_uri": "https://localhost:8080/"
        },
        "id": "j6ckdmexc4Fi",
        "outputId": "dd188b56-9d4c-4006-ce22-09c2f32a8586"
      },
      "execution_count": 21,
      "outputs": [
        {
          "output_type": "stream",
          "name": "stdout",
          "text": [
            "LLMChain is a common type of chain within the LangChain framework for developing applications powered by language models. It consists of a PromptTemplate, a model (either an LLM or a ChatModel), and an optional output parser. The LLMChain takes multiple input variables, formats them into a prompt using the PromptTemplate, passes the prompt to the model, and then utilizes the OutputParser (if provided) to parse the output of the language model into a final format.\n",
            "\n",
            "LangChain is designed to enable powerful and differentiated applications that not only call out to a language model via an API but also incorporate data-awareness and agentic capabilities. This means connecting a language model to other sources of data and allowing the language model to interact with its environment. The LangChain framework is tailored to support these types of applications, providing a flexible and modular approach to leveraging language models for various use cases.\n"
          ]
        }
      ]
    }
  ]
}