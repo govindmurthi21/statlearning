{
  "nbformat": 4,
  "nbformat_minor": 0,
  "metadata": {
    "colab": {
      "provenance": [],
      "authorship_tag": "ABX9TyNSImEF+W2b9e6MtJ87UVse",
      "include_colab_link": true
    },
    "kernelspec": {
      "name": "python3",
      "display_name": "Python 3"
    },
    "language_info": {
      "name": "python"
    }
  },
  "cells": [
    {
      "cell_type": "markdown",
      "metadata": {
        "id": "view-in-github",
        "colab_type": "text"
      },
      "source": [
        "<a href=\"https://colab.research.google.com/github/govindmurthi21/statlearning/blob/main/CSXPDFReader.ipynb\" target=\"_parent\"><img src=\"https://colab.research.google.com/assets/colab-badge.svg\" alt=\"Open In Colab\"/></a>"
      ]
    },
    {
      "cell_type": "code",
      "execution_count": 1,
      "metadata": {
        "colab": {
          "base_uri": "https://localhost:8080/"
        },
        "id": "OFqN5tErxpRf",
        "outputId": "57e3cb23-740a-4471-c1d9-e3c4718c7d70"
      },
      "outputs": [
        {
          "output_type": "stream",
          "name": "stdout",
          "text": [
            "Requirement already satisfied: langchain in /usr/local/lib/python3.10/dist-packages (0.3.3)\n",
            "Requirement already satisfied: langchain-community in /usr/local/lib/python3.10/dist-packages (0.3.2)\n",
            "Requirement already satisfied: langchain-openai in /usr/local/lib/python3.10/dist-packages (0.2.2)\n",
            "Requirement already satisfied: PyYAML>=5.3 in /usr/local/lib/python3.10/dist-packages (from langchain) (6.0.2)\n",
            "Requirement already satisfied: SQLAlchemy<3,>=1.4 in /usr/local/lib/python3.10/dist-packages (from langchain) (2.0.35)\n",
            "Requirement already satisfied: aiohttp<4.0.0,>=3.8.3 in /usr/local/lib/python3.10/dist-packages (from langchain) (3.10.9)\n",
            "Requirement already satisfied: async-timeout<5.0.0,>=4.0.0 in /usr/local/lib/python3.10/dist-packages (from langchain) (4.0.3)\n",
            "Requirement already satisfied: langchain-core<0.4.0,>=0.3.10 in /usr/local/lib/python3.10/dist-packages (from langchain) (0.3.10)\n",
            "Requirement already satisfied: langchain-text-splitters<0.4.0,>=0.3.0 in /usr/local/lib/python3.10/dist-packages (from langchain) (0.3.0)\n",
            "Requirement already satisfied: langsmith<0.2.0,>=0.1.17 in /usr/local/lib/python3.10/dist-packages (from langchain) (0.1.134)\n",
            "Requirement already satisfied: numpy<2,>=1 in /usr/local/lib/python3.10/dist-packages (from langchain) (1.26.4)\n",
            "Requirement already satisfied: pydantic<3.0.0,>=2.7.4 in /usr/local/lib/python3.10/dist-packages (from langchain) (2.9.2)\n",
            "Requirement already satisfied: requests<3,>=2 in /usr/local/lib/python3.10/dist-packages (from langchain) (2.32.3)\n",
            "Requirement already satisfied: tenacity!=8.4.0,<9.0.0,>=8.1.0 in /usr/local/lib/python3.10/dist-packages (from langchain) (8.5.0)\n",
            "Requirement already satisfied: dataclasses-json<0.7,>=0.5.7 in /usr/local/lib/python3.10/dist-packages (from langchain-community) (0.6.7)\n",
            "Requirement already satisfied: pydantic-settings<3.0.0,>=2.4.0 in /usr/local/lib/python3.10/dist-packages (from langchain-community) (2.5.2)\n",
            "Requirement already satisfied: openai<2.0.0,>=1.40.0 in /usr/local/lib/python3.10/dist-packages (from langchain-openai) (1.51.2)\n",
            "Requirement already satisfied: tiktoken<1,>=0.7 in /usr/local/lib/python3.10/dist-packages (from langchain-openai) (0.8.0)\n",
            "Requirement already satisfied: aiohappyeyeballs>=2.3.0 in /usr/local/lib/python3.10/dist-packages (from aiohttp<4.0.0,>=3.8.3->langchain) (2.4.3)\n",
            "Requirement already satisfied: aiosignal>=1.1.2 in /usr/local/lib/python3.10/dist-packages (from aiohttp<4.0.0,>=3.8.3->langchain) (1.3.1)\n",
            "Requirement already satisfied: attrs>=17.3.0 in /usr/local/lib/python3.10/dist-packages (from aiohttp<4.0.0,>=3.8.3->langchain) (24.2.0)\n",
            "Requirement already satisfied: frozenlist>=1.1.1 in /usr/local/lib/python3.10/dist-packages (from aiohttp<4.0.0,>=3.8.3->langchain) (1.4.1)\n",
            "Requirement already satisfied: multidict<7.0,>=4.5 in /usr/local/lib/python3.10/dist-packages (from aiohttp<4.0.0,>=3.8.3->langchain) (6.1.0)\n",
            "Requirement already satisfied: yarl<2.0,>=1.12.0 in /usr/local/lib/python3.10/dist-packages (from aiohttp<4.0.0,>=3.8.3->langchain) (1.13.1)\n",
            "Requirement already satisfied: marshmallow<4.0.0,>=3.18.0 in /usr/local/lib/python3.10/dist-packages (from dataclasses-json<0.7,>=0.5.7->langchain-community) (3.22.0)\n",
            "Requirement already satisfied: typing-inspect<1,>=0.4.0 in /usr/local/lib/python3.10/dist-packages (from dataclasses-json<0.7,>=0.5.7->langchain-community) (0.9.0)\n",
            "Requirement already satisfied: jsonpatch<2.0,>=1.33 in /usr/local/lib/python3.10/dist-packages (from langchain-core<0.4.0,>=0.3.10->langchain) (1.33)\n",
            "Requirement already satisfied: packaging<25,>=23.2 in /usr/local/lib/python3.10/dist-packages (from langchain-core<0.4.0,>=0.3.10->langchain) (23.2)\n",
            "Requirement already satisfied: typing-extensions>=4.7 in /usr/local/lib/python3.10/dist-packages (from langchain-core<0.4.0,>=0.3.10->langchain) (4.12.2)\n",
            "Requirement already satisfied: httpx<1,>=0.23.0 in /usr/local/lib/python3.10/dist-packages (from langsmith<0.2.0,>=0.1.17->langchain) (0.27.2)\n",
            "Requirement already satisfied: orjson<4.0.0,>=3.9.14 in /usr/local/lib/python3.10/dist-packages (from langsmith<0.2.0,>=0.1.17->langchain) (3.10.7)\n",
            "Requirement already satisfied: requests-toolbelt<2.0.0,>=1.0.0 in /usr/local/lib/python3.10/dist-packages (from langsmith<0.2.0,>=0.1.17->langchain) (1.0.0)\n",
            "Requirement already satisfied: anyio<5,>=3.5.0 in /usr/local/lib/python3.10/dist-packages (from openai<2.0.0,>=1.40.0->langchain-openai) (3.7.1)\n",
            "Requirement already satisfied: distro<2,>=1.7.0 in /usr/lib/python3/dist-packages (from openai<2.0.0,>=1.40.0->langchain-openai) (1.7.0)\n",
            "Requirement already satisfied: jiter<1,>=0.4.0 in /usr/local/lib/python3.10/dist-packages (from openai<2.0.0,>=1.40.0->langchain-openai) (0.6.1)\n",
            "Requirement already satisfied: sniffio in /usr/local/lib/python3.10/dist-packages (from openai<2.0.0,>=1.40.0->langchain-openai) (1.3.1)\n",
            "Requirement already satisfied: tqdm>4 in /usr/local/lib/python3.10/dist-packages (from openai<2.0.0,>=1.40.0->langchain-openai) (4.66.5)\n",
            "Requirement already satisfied: annotated-types>=0.6.0 in /usr/local/lib/python3.10/dist-packages (from pydantic<3.0.0,>=2.7.4->langchain) (0.7.0)\n",
            "Requirement already satisfied: pydantic-core==2.23.4 in /usr/local/lib/python3.10/dist-packages (from pydantic<3.0.0,>=2.7.4->langchain) (2.23.4)\n",
            "Requirement already satisfied: python-dotenv>=0.21.0 in /usr/local/lib/python3.10/dist-packages (from pydantic-settings<3.0.0,>=2.4.0->langchain-community) (1.0.1)\n",
            "Requirement already satisfied: charset-normalizer<4,>=2 in /usr/local/lib/python3.10/dist-packages (from requests<3,>=2->langchain) (3.3.2)\n",
            "Requirement already satisfied: idna<4,>=2.5 in /usr/local/lib/python3.10/dist-packages (from requests<3,>=2->langchain) (3.10)\n",
            "Requirement already satisfied: urllib3<3,>=1.21.1 in /usr/local/lib/python3.10/dist-packages (from requests<3,>=2->langchain) (2.2.3)\n",
            "Requirement already satisfied: certifi>=2017.4.17 in /usr/local/lib/python3.10/dist-packages (from requests<3,>=2->langchain) (2024.8.30)\n",
            "Requirement already satisfied: greenlet!=0.4.17 in /usr/local/lib/python3.10/dist-packages (from SQLAlchemy<3,>=1.4->langchain) (3.1.1)\n",
            "Requirement already satisfied: regex>=2022.1.18 in /usr/local/lib/python3.10/dist-packages (from tiktoken<1,>=0.7->langchain-openai) (2024.9.11)\n",
            "Requirement already satisfied: exceptiongroup in /usr/local/lib/python3.10/dist-packages (from anyio<5,>=3.5.0->openai<2.0.0,>=1.40.0->langchain-openai) (1.2.2)\n",
            "Requirement already satisfied: httpcore==1.* in /usr/local/lib/python3.10/dist-packages (from httpx<1,>=0.23.0->langsmith<0.2.0,>=0.1.17->langchain) (1.0.6)\n",
            "Requirement already satisfied: h11<0.15,>=0.13 in /usr/local/lib/python3.10/dist-packages (from httpcore==1.*->httpx<1,>=0.23.0->langsmith<0.2.0,>=0.1.17->langchain) (0.14.0)\n",
            "Requirement already satisfied: jsonpointer>=1.9 in /usr/local/lib/python3.10/dist-packages (from jsonpatch<2.0,>=1.33->langchain-core<0.4.0,>=0.3.10->langchain) (3.0.0)\n",
            "Requirement already satisfied: mypy-extensions>=0.3.0 in /usr/local/lib/python3.10/dist-packages (from typing-inspect<1,>=0.4.0->dataclasses-json<0.7,>=0.5.7->langchain-community) (1.0.0)\n",
            "Requirement already satisfied: openai in /usr/local/lib/python3.10/dist-packages (1.51.2)\n",
            "Requirement already satisfied: anyio<5,>=3.5.0 in /usr/local/lib/python3.10/dist-packages (from openai) (3.7.1)\n",
            "Requirement already satisfied: distro<2,>=1.7.0 in /usr/lib/python3/dist-packages (from openai) (1.7.0)\n",
            "Requirement already satisfied: httpx<1,>=0.23.0 in /usr/local/lib/python3.10/dist-packages (from openai) (0.27.2)\n",
            "Requirement already satisfied: jiter<1,>=0.4.0 in /usr/local/lib/python3.10/dist-packages (from openai) (0.6.1)\n",
            "Requirement already satisfied: pydantic<3,>=1.9.0 in /usr/local/lib/python3.10/dist-packages (from openai) (2.9.2)\n",
            "Requirement already satisfied: sniffio in /usr/local/lib/python3.10/dist-packages (from openai) (1.3.1)\n",
            "Requirement already satisfied: tqdm>4 in /usr/local/lib/python3.10/dist-packages (from openai) (4.66.5)\n",
            "Requirement already satisfied: typing-extensions<5,>=4.11 in /usr/local/lib/python3.10/dist-packages (from openai) (4.12.2)\n",
            "Requirement already satisfied: idna>=2.8 in /usr/local/lib/python3.10/dist-packages (from anyio<5,>=3.5.0->openai) (3.10)\n",
            "Requirement already satisfied: exceptiongroup in /usr/local/lib/python3.10/dist-packages (from anyio<5,>=3.5.0->openai) (1.2.2)\n",
            "Requirement already satisfied: certifi in /usr/local/lib/python3.10/dist-packages (from httpx<1,>=0.23.0->openai) (2024.8.30)\n",
            "Requirement already satisfied: httpcore==1.* in /usr/local/lib/python3.10/dist-packages (from httpx<1,>=0.23.0->openai) (1.0.6)\n",
            "Requirement already satisfied: h11<0.15,>=0.13 in /usr/local/lib/python3.10/dist-packages (from httpcore==1.*->httpx<1,>=0.23.0->openai) (0.14.0)\n",
            "Requirement already satisfied: annotated-types>=0.6.0 in /usr/local/lib/python3.10/dist-packages (from pydantic<3,>=1.9.0->openai) (0.7.0)\n",
            "Requirement already satisfied: pydantic-core==2.23.4 in /usr/local/lib/python3.10/dist-packages (from pydantic<3,>=1.9.0->openai) (2.23.4)\n",
            "Requirement already satisfied: PyPDF2 in /usr/local/lib/python3.10/dist-packages (3.0.1)\n",
            "Requirement already satisfied: faiss-cpu in /usr/local/lib/python3.10/dist-packages (1.9.0)\n",
            "Requirement already satisfied: numpy<3.0,>=1.25.0 in /usr/local/lib/python3.10/dist-packages (from faiss-cpu) (1.26.4)\n",
            "Requirement already satisfied: packaging in /usr/local/lib/python3.10/dist-packages (from faiss-cpu) (23.2)\n",
            "Requirement already satisfied: tiktoken in /usr/local/lib/python3.10/dist-packages (0.8.0)\n",
            "Requirement already satisfied: regex>=2022.1.18 in /usr/local/lib/python3.10/dist-packages (from tiktoken) (2024.9.11)\n",
            "Requirement already satisfied: requests>=2.26.0 in /usr/local/lib/python3.10/dist-packages (from tiktoken) (2.32.3)\n",
            "Requirement already satisfied: charset-normalizer<4,>=2 in /usr/local/lib/python3.10/dist-packages (from requests>=2.26.0->tiktoken) (3.3.2)\n",
            "Requirement already satisfied: idna<4,>=2.5 in /usr/local/lib/python3.10/dist-packages (from requests>=2.26.0->tiktoken) (3.10)\n",
            "Requirement already satisfied: urllib3<3,>=1.21.1 in /usr/local/lib/python3.10/dist-packages (from requests>=2.26.0->tiktoken) (2.2.3)\n",
            "Requirement already satisfied: certifi>=2017.4.17 in /usr/local/lib/python3.10/dist-packages (from requests>=2.26.0->tiktoken) (2024.8.30)\n"
          ]
        }
      ],
      "source": [
        "!pip install langchain langchain-community langchain-openai\n",
        "!pip install openai\n",
        "!pip install PyPDF2\n",
        "!pip install faiss-cpu\n",
        "!pip install tiktoken"
      ]
    },
    {
      "cell_type": "code",
      "source": [
        "from PyPDF2 import PdfReader\n",
        "from langchain.embeddings.openai import OpenAIEmbeddings\n",
        "from langchain.text_splitter import CharacterTextSplitter\n",
        "from langchain.vectorstores import FAISS\n",
        "from google.colab import userdata"
      ],
      "metadata": {
        "id": "xMRNkmolyu8S"
      },
      "execution_count": 2,
      "outputs": []
    },
    {
      "cell_type": "code",
      "source": [
        "import os\n",
        "os.environ[\"OPEN_API_KEY\"] = userdata.get(\"openapi_key\")"
      ],
      "metadata": {
        "id": "FgOlnmal1QcA"
      },
      "execution_count": 3,
      "outputs": []
    },
    {
      "cell_type": "code",
      "source": [
        "pdfReader = PdfReader('/content/sample_data/CSXI_301.pdf')"
      ],
      "metadata": {
        "id": "6AUSGXuk2Yl6"
      },
      "execution_count": 4,
      "outputs": []
    },
    {
      "cell_type": "code",
      "source": [
        "from typing_extensions import Concatenate\n",
        "raw_text = ''\n",
        "for i, page in enumerate(pdfReader.pages):\n",
        "  content = page.extract_text()\n",
        "  if content:\n",
        "    raw_text += content"
      ],
      "metadata": {
        "id": "G6T4_0bb2oYm"
      },
      "execution_count": 5,
      "outputs": []
    },
    {
      "cell_type": "code",
      "source": [
        "raw_text"
      ],
      "metadata": {
        "colab": {
          "base_uri": "https://localhost:8080/",
          "height": 87
        },
        "id": "Bl2-iQt_3CFb",
        "outputId": "a8bf18ef-3398-4a69-b341-19c1b1e0f24e"
      },
      "execution_count": 6,
      "outputs": [
        {
          "output_type": "execute_result",
          "data": {
            "text/plain": [
              "' \\n     \\n \\n \\n         \\nCSX Intermodal \\nEDI 301  \\nPrivate CY Bookings \\n \\nCSX Intermodal EDI 301 Implementation Guide for Customers \\n \\nX12/V4010/301: 301 Confirmation (Ocean)  \\n \\nVersion: 004010 \\n \\nQuestions about the CSXI EDI 301 Implem entation Guide should be directed to: \\n877-SHIPCSX option 2, prompt 2 \\nMonday – Friday: 7:00 AM – 6:00 PM 9/24/2008 Confirmation (Ocean) - 301\\n \\nCSXI_301_004010.ecs i For internal use only\\n  \\nTable of Contents  \\n \\n301  Confirmation (Ocean) ..................................................................................................... 1 \\nISA  Interchange Control Header .......................................................................................... 2 \\nGS  Functional Group Header ............................................................................................. 4 \\nST  Transaction Set Header ................................................................................................ 6 \\nB1  Beginning Segment for Booking or Pick-up/Delivery ............................................................ 7 \\nY3  Space Confirmation .................................................................................................... 8 \\nY4  Container Release .................................................................................................... 10 \\nN1  Name .................................................................................................................... 11 \\nR4  Port or Terminal ....................................................................................................... 12 \\nDTM  Date/Time Reference ................................................................................................. 13 \\nH3  Special Handling Instructions ...................................................................................... 14 \\nSE  Transaction Set Trailer ............................................................................................... 15 \\nGE  Functional Group Trailer ............................................................................................ 16 \\nIEA  Interchange Control Trailer ......................................................................................... 17 9/24/2008 Confirmation (Ocean) - 301\\n \\nCSXI_301_004010.ecs 1 For internal use only\\n  \\n301 Confirmation (Ocean)  \\nFunctional Group= RO  \\nPurpose: This Draft Standard for Trial Use contains the format and establishes the data c ontents of the Confirmation \\n(Ocean) Transaction Set (301) for use within the context of an Electronic Data Interchange (EDI) environment. The \\ntransaction set can be used to provide all the information nece ssary for an ocean carrier to confirm space, container, \\nand equipment availability in response to the Reservati on (Booking Request) (Ocean) Transaction Set (300); or to \\nnotify other parties such as terminal operators or other ocean carriers.  \\n  \\nNot Defined:  \\n Pos Id Segment Name  Req Max Use  Repeat  Notes  Usage  \\n  ISA Interchange Control Header M 1     Must use \\n  GS Functional Group Header M 1     Must use \\n  \\nHeading:  \\n Pos Id Segment Name  Req Max Use  Repeat  Notes  Usage  \\n 010 ST Transaction Set Header M 1     Must use \\n 020 B1 Beginning Segment for \\nBooking or Pick-up/Delivery M 1     Must use \\n 040 Y3 Space Confirmation M 1     Must use \\n LOOP ID - Y4      10     \\n 050 Y4 Container Release O 1     Used \\n                   \\n LOOP ID - N1      4     \\n 060 N1 Name O 1     Used \\n                   \\n LOOP ID - R4      20     \\n 110 R4 Port or Terminal M 1     Must use \\n 120 DTM  Date/Time Reference O 15     Used \\n 140 H3 Special Handling Instructions O 6     Used \\n  \\nSummary:  \\n Pos Id Segment Name  Req Max Use  Repeat  Notes  Usage  \\n 010 SE Transaction Set Trailer M 1     Must use \\n  \\nNot Defined:  \\n Pos Id Segment Name  Req Max Use  Repeat  Notes  Usage  \\n  GE Functional Group Trailer M 1     Must use \\n  IEA Interchange Control Trailer M 1     Must use 9/24/2008 Confirmation (Ocean) - 301\\n \\nCSXI_301_004010.ecs 2 For internal use only\\n  \\nISA Interchange Control HeaderPos:  Max: 1\\nNot Defined - Mandatory  \\nLoop: N/A  Elements: 16\\n  \\nUser Option (Usage): Must use  \\nPurpose: To start and identify an interchange of zero or mo re functional groups and interchange-related control \\nsegments  \\n  \\nElement Summary:  \\n Ref Id Element Name  Req Type  Min/Max  Usage  \\n ISA01 I01 Authorization Information Qualifier  M ID 2/2 Must use \\n      \\nDescription: Code to identify the type of informa tion in the Author ization Information   \\n  \\n Code  Name  \\n 00 No Authorization Information Present  (No Meaningful Information in I02) \\n  \\n ISA02 I02 Authorization Information  M AN 10/10 Must use \\n      \\nDescription: Information used for additional identific ation or authorizati on of the interchange \\nsender or the data in the interchange; the ty pe of information is set by the Authorization \\nInformation Qualifier (I01)   \\n  \\n ISA03 I03 Security Information Qualifier  M ID 2/2 Must use \\n      \\nDescription: Code to identify the type of informa tion in the Secu rity Information   \\n  \\n Code  Name  \\n 00 No Security Informati on Present (No Meaningful Information in I04) \\n  \\n ISA04 I04 Security Information  M AN 10/10 Must use \\n      \\nDescription: This is used for identifying the securi ty information about the interchange \\nsender or the data in the interchange; the type of information is set by the Security \\nInformation Qualifier (I03)   \\n  \\n ISA05 I05 Interchange ID  Qualifier  M ID 2/2 Must use \\n      \\nDescription: Qualifier to designate the system/met hod of code structure used to designate \\nthe sender or receiver ID element being qualified   \\n  \\n Code  Name  \\n 02 SCAC (Standard Carrier Alpha Code) \\n ZZ Mutually Defined \\n  \\n ISA06 I06 Interchange Sender ID  M AN 15/15 Must use \\n      \\nDescription: Identification code published by the send er for other parties to use as the \\nreceiver ID to route data to them; the sender always codes this value in the sender ID \\nelement   \\n  \\n ISA07 I05 Interchange ID  Qualifier  M ID 2/2 Must use \\n      \\nDescription: Qualifier to designate the system/met hod of code structure used to designate \\nthe sender or receiver ID element being qualified   \\n  \\n Code  Name  \\n 02 SCAC (Standard Carrier Alpha Code)  ZZ Mutually Defined \\n  \\n ISA08 I07 Interchange Receiver ID  M AN 15/15 Must use \\n      \\nDescription: Identification code published by the receiv er of the data; When sending, it is \\nused by the sender as their sending ID, thus other parties sending to them will use this as a receiving ID to route data to them\\n  \\nUser Note 1: CSX recommends you use \"CSXINC         \".   \\n  \\n ISA09 I08 Interchange Date  M DT 6/6 Must use 9/24/2008 Confirmation (Ocean) - 301\\n \\nCSXI_301_004010.ecs 3 For internal use only\\n       \\nDescription: Date of the interchange   \\n  \\n ISA10 I09 Interchange Time  M TM 4/4 Must use \\n      \\nDescription: Time of the interchange   \\n  \\n ISA11 I10 Interchange Control Standards Identifier M ID 1/1 Must use \\n      \\nDescription: Code to identify the agency responsible for the control standard used by the \\nmessage that is enclosed by the interchange header and trailer   \\nAll valid standard codes are used.   \\n  \\n ISA12 I11 Interchange Control Version Number  M ID 5/5 Must use \\n      \\nDescription: Code specifying the version number  of the interchange control segments   \\n  \\n Code  Name  \\n 00401 Draft Standards for Trial Use Approved for Publication by ASC X12 \\nProcedures Review Board through October 1997 \\n  \\n ISA13 I12 Interchange Control Number  M N0 9/9 Must use \\n      \\nDescription: A control number assigned by the interchange sender   \\n  \\n ISA14 I13 Acknowledgment Requested  M ID 1/1 Must use \\n      \\nDescription: Code sent by the sender to request an interchange acknowledgment (TA1)   \\n  \\n Code  Name  \\n 0 No Acknowledgment Requested \\n  \\n ISA15 I14 Usage Indicator  M ID 1/1 Must use \\n      \\nDescription: Code to indicate whether data enclosed by this interchange envelope is test, \\nproduction or information   \\n  \\n Code  Name  \\n P Production Data \\n  \\n ISA16 I15 Component Element Separator  M  1/1 Must use \\n      \\nDescription: Type is not applicable; the component element separator is a delimiter and not \\na data element; this field provides the delimit er used to separate component data elements \\nwithin a composite data structure; this va lue must be different than the data element \\nseparator and the segment terminator   \\nUser Note 1: CSX recommends you send \">\".   \\n  \\n  9/24/2008 Confirmation (Ocean) - 301\\n \\nCSXI_301_004010.ecs 4 For internal use only\\n  \\nGS Functional Group Header  Pos:  Max: 1\\nNot Defined - Mandatory  \\nLoop: N/A  Elements: 8\\n  \\nUser Option (Usage): Must use  \\nPurpose: To indicate the beginning of a function al group and to provide control information  \\n  \\nElement Summary:  \\n Ref Id Element Name  Req Type  Min/Max  Usage  \\n GS01 479 Functional Identifier Code  M ID 2/2 Must use \\n      \\nDescription: Code identifying a group of application related transaction sets   \\n  \\n Code  Name  \\n RO Ocean Booking Information (300, 301,303) \\n  \\n GS02 142 Application Sender\\'s Code  M AN 2/15 Must use \\n      \\nDescription: Code identifying party sending transmission; codes agreed to by trading \\npartners   \\n  \\n GS03 124 Application Receiver\\'s Code  M AN 2/15 Must use \\n      \\nDescription: Code identifying party receiving transmission; codes agreed to by trading \\npartners   \\nUser Note 1: Receiver code = \"CSXI\"   \\n  \\n GS04 373 Date  M DT 8/8 Must use \\n      \\nDescription: Date expressed as CCYYMMDD   \\n  \\n GS05 337 Time  M TM 4/8 Must use \\n      \\nDescription: Time expressed in 24-hour clock time as follows: HHMM, or HHMMSS, or \\nHHMMSSD, or HHMMSSDD, where H = hours ( 00-23), M = minutes (00-59), S = integer \\nseconds (00-59) and DD = decimal seconds; decimal seconds are expressed as follows: D = tenths (0-9) and DD = hundredths (00-99)\\n  \\n  \\n GS06 28 Group Control Number  M N0 1/9 Must use \\n      \\nDescription: Assigned number originated and maintained by the sender   \\n  \\n GS07 455 Responsible Agency Code  M ID 1/2 Must use \\n      \\nDescription: Code identifying the issuer of the standar d; this code is us ed in conjunction \\nwith Data Element 480   \\n  \\n Code  Name  \\n X Accredited Standards Committee X12 \\n  \\n GS08 480 Version / Release / Industry Identifier \\nCode  M AN 1/12 Must use \\n      \\nDescription: Code indicating the version, release, subrelease, and industry identifier of the \\nEDI standard being used, including the GS a nd GE segments; if code in DE455 in GS \\nsegment is X, then in DE 480 positions 1-3 are the version number; positions 4-6 are the \\nrelease and subrelease, level of the version;  and positions 7-12 are the industry or trade \\nassociation identifiers (optionally assigned by us er); if code in DE455 in GS segment is T, \\nthen other formats are allowed   \\n  \\n Code  Name  \\n 004010 Draft Standards Approved for Publ ication by ASC X12 Procedures Review \\nBoard through October 1997 \\n  \\n  \\nSemantics:  \\n1. GS04 is the group date. \\n2. GS05 is the group time. 9/24/2008 Confirmation (Ocean) - 301\\n \\nCSXI_301_004010.ecs 5 For internal use only\\n 3. The data interchange control number GS06 in this header  must be identical to the same data element in the \\nassociated functional group trailer, GE02. \\n  \\nComments:  \\n1. A functional group of related transaction sets, within the scope of X12 standards, c onsists of a collection of \\nsimilar transaction sets enclosed by a functional group header and a functional group trailer. 9/24/2008 Confirmation (Ocean) - 301\\n \\nCSXI_301_004010.ecs 6 For internal use only\\n  \\nST Transaction Set Header  Pos: 010  Max: 1\\nHeading - Mandatory  \\nLoop: N/A  Elements: 2\\n  \\nUser Option (Usage): Must use  \\nPurpose: To indicate the start of a transaction set and to assign a control number  \\n  \\nElement Summary:  \\n Ref Id Element Name  Req Type  Min/Max  Usage  \\n ST01 143 Transaction Set Identifier Code  M ID 3/3 Must use \\n      \\nDescription: Code uniquely identifying a Transaction Set   \\n  \\n Code  Name  \\n 301 Confirmation (Ocean) \\n  \\n ST02 329 Transaction Set Control Number  M AN 4/9 Must use \\n      \\nDescription: Identifying control number that must be unique within the transaction set \\nfunctional group assigned by the originator for a transaction set   \\n  \\n  \\n  \\nSemantics:  \\n1. The transaction set identifier (ST01) used by the translation routines of t he interchange partners to select the \\nappropriate transaction set definition (e.g ., 810 selects the Invoice Transaction Set). 9/24/2008 Confirmation (Ocean) - 301\\n \\nCSXI_301_004010.ecs 7 For internal use only\\n  \\nB1 Beginning Segment for \\nBooking or Pick-up/DeliveryPos: 020  Max: 1\\nHeading - Mandatory  \\nLoop: N/A  Elements: 4\\n  \\nUser Option (Usage): Must use  \\nPurpose: To transmit identifying numbers, dates, and othe r basic data relating to the transaction set  \\n  \\nElement Summary:  \\n Ref Id Element Name  Req Type  Min/Max  Usage  \\n B101 140 Standard Carrier Alpha Code  O ID 2/4 Not used \\n      \\nDescription: Standard Carrier Alpha Code   \\nUser Note 1: CSX Does not read this element.   \\n  \\n B102 145 Shipment Identification Number  M AN 1/30 Must use \\n      \\nDescription: Identification number assigned to the sh ipment by the shipper that uniquely \\nidentifies the shipment from or igin to ultimate destination and is not subject to modification; \\n(Does not contain blanks or special characters)   \\n  \\n B103 373 Date  O DT 8/8 Not used \\n      \\nDescription: Date expressed as CCYYMMDD   \\nUser Note 1: CSX Does not read this element.   \\n  \\n B104 558 Reservation Action Code  M ID 1/1 Must use \\n      \\nDescription: Code identifying action on reservation or offering   \\n  \\n Code  Name  \\n N New  R Delete \\n U Change \\n  \\n  \\nSemantics:  \\n1. B101 is the Standard Carrier Alpha Code (SCAC)  of the carrier sending the EDI transmission. \\n2. B103 is the booking dat e accepted by the carrier. 9/24/2008 Confirmation (Ocean) - 301\\n \\nCSXI_301_004010.ecs 8 For internal use only\\n  \\nY3 Space Confirmation  Pos: 040  Max: 1\\nHeading - Mandatory  \\nLoop: N/A  Elements: 11\\n  \\nUser Option (Usage): Must use  \\nPurpose: To specify confirmation information for space booking including numbers, dates, and load time  \\n  \\nElement Summary:  \\n Ref Id Element Name  Req Type  Min/Max  Usage  \\n Y301 13 Booking Number  M AN 1/14 Must use \\n      \\nDescription: Number assigned by the carrier for space reservation   \\nUser Note 1: CSX max length for the Booking Number is 14 bytes.   \\n  \\n Y302 140 Standard Carrier Alpha Code  O ID 2/4 Not used \\n      \\nDescription: Standard Carrier Alpha Code   \\n  \\n Y303 373 Date  O DT 8/8 Not used \\n      \\nDescription: Date expressed as CCYYMMDD   \\n  \\n Y304 373 Date  O DT 8/8 Not used \\n      \\nDescription: Date expressed as CCYYMMDD   \\n  \\n Y305 154 Standard Point Location Code  O ID 6/9 Not used \\n      \\nDescription: Code (Standard Point Location) defin ed by NMFTA point development group \\nas the official code assigned to a city or point (for ratemaking purposes) within a city   \\n  \\n Y306 112 Pier Name  O AN 2/14 Not used \\n      \\nDescription: Free-form name of the pier   \\n  \\n Y307 373 Date  O DT 8/8 Not used \\n      \\nDescription: Date expressed as CCYYMMDD   \\n  \\n Y308 337 Time  X TM 4/8 Not used \\n      \\nDescription: Time expressed in 24-hour clock time as follows: HHMM, or HHMMSS, or \\nHHMMSSD, or HHMMSSDD, where H = hours ( 00-23), M = minutes (00-59), S = integer \\nseconds (00-59) and DD = decimal seconds; decimal seconds are expressed as follows: D = \\ntenths (0-9) and DD = hundredths (00-99)   \\n  \\n Y309 91 Transportation Method/Type Code  O ID 1/2 Not used \\n      \\nDescription: Code specifying the method or ty pe of transportation for the shipment   \\nAll valid standard codes are used.   \\n  \\n Y310 375 Tariff Service Code  O ID 2/2 Not used \\n      \\nDescription: Code specifying the types of services for rating purposes   \\nAll valid standard codes are used.   \\n  \\n Y311 623 Time Code  O ID 2/2 Not used \\n      \\nDescription: Code identifying the time. In acco rdance with International Standards \\nOrganization standard 8601, time can be specified by a + or - and an indication in hours in \\nrelation to Universal Time Coordinate (UTC) ti me; since + is a restricted character, + and - \\nare substituted by P and M in the codes that follow   \\nAll valid standard codes are used.   \\n  \\nSyntax Rules:  \\n1. C0908 - If Y309 is present, then Y308 is required. \\n \\n  \\n  9/24/2008 Confirmation (Ocean) - 301\\n \\nCSXI_301_004010.ecs 9 For internal use only\\n Semantics:  \\n1. Y303 is the date of dep arture of the vessel. \\n2. Y304 is the estimated arriva l date at the port of discharge. \\n3. Y307 is the required pier date. \\n4. Y308 is the load time. \\n5. Y311 is the time zone which the time reflects. \\n  \\nComments:  \\n1. If space is available, all of the conditional data elements in segment Y3  are required. If the requested space is \\nnot available, Y301 is t he booking number \\'decline\\'. 9/24/2008 Confirmation (Ocean) - 301\\n \\nCSXI_301_004010.ecs 10 For internal use only\\n  \\nY4 Container Release  Pos: 050  Max: 1\\nHeading - Optional  \\nLoop: Y4  Elements: 10\\n  \\nUser Option (Usage): Used \\nPurpose: To transmit information relative to containers available for release  \\n  \\nElement Summary:  \\n Ref Id Element Name  Req Type  Min/Max  Usage  \\n Y401 13 Booking Number  O AN 1/17 Must Use \\n      \\nDescription: Number assigned by the carrier for space reservation   \\n  \\n Y402 13 Booking Number  O AN 1/17 Must Use \\n      \\nDescription: Number assigned by the carrier for space reservation   \\n  \\n Y403 373 Date  O DT 8/8 Used \\n      \\nDescription: Date expressed as CCYYMMDD   \\nUser Note 1: Pickup Date   \\n  \\n Y404 154 Standard Point Location Code  O ID 6/9 Not used \\n      \\nDescription: Code (Standard Point Location) defin ed by NMFTA point development group \\nas the official code assigned to a city or point (for ratemaking purposes) within a city   \\n  \\n Y405 95 Number of Containers  M N0 1/4 Must use \\n      \\nDescription: Number of shipping containers   \\n  \\n Y406 24 Equipment Type  M ID 4/4 Must use \\n      \\nDescription: Code identifying equipment type   \\nUser Note 1: Must contain the AAR Car type. CSX does not process ISO codes.   \\n  \\n Y407 140 Standard Carrier Alpha Code  M ID 2/4 Must use \\n      \\nDescription: Standard Carrier Alpha Code   \\n  \\n Y408 309 Location Qualifier  X ID 1/2 Not used \\n      \\nDescription: Code identifying type of location   \\n  \\n Y409 310 Location Identifier  X AN 1/30 Not used \\n      \\nDescription: Code which identifies a specific location   \\n  \\n Y410 56 Type of Service Code  O ID 2/2 Not used \\n      \\nDescription: Code specifying extent of transportation service requested   \\n  \\nSyntax Rules:  \\n1. P0809 - If either Y408 or Y409  is  present, then the other is required. \\n \\n  \\n  \\nSemantics:  \\n1. Y401 is used for the first booking number and Y402 fo r the last booking number in a range of numbers. If only \\none booking number is used, Y402 is omitted. \\n2. Y403 is the date of contai ner availability for pickup. \\n3. Y404 is the Standard Point Location Code (SPLC) of the container pick-up location. \\n4. Y407 identifies the carrier to whom  containers will be released, if known. 9/24/2008 Confirmation (Ocean) - 301\\n \\nCSXI_301_004010.ecs 11 For internal use only\\n  \\nN1 Name  Pos: 060  Max: 1\\nHeading - Optional  \\nLoop: N1  Elements: 2\\n  \\nUser Option (Usage): Used \\nPurpose: To identify a party by type of organization, name, and code  \\n  \\nElement Summary:  \\n Ref Id Element Name  Req Type  Min/Max  Usage  \\n N101 98 Entity Identifier Code  M ID 2/3 Must use \\n      \\nDescription: Code identifying an organizational entity, a physical location, property or an \\nindividual   \\n  \\n Code  Name  \\n OR Origin Drayman \\n SH Shipper \\n  \\n N102 93 Name  X AN 1/30 Used \\n      \\nDescription: Free-form name   \\n  \\nSyntax Rules:  \\n1. R0203 - At least one of N102 or N103 is required. \\n2. P0304 - If either N103 or N104  is  present, then the other is required. \\n \\n  \\n  \\nComments:  \\n1. This segment, used alone, provides the most efficient  method of providing organizational identification. To \\nobtain this efficiency the \"ID Code\" (N104) must prov ide a key to the table maintained by the transaction \\nprocessing party. \\n2. N105 and N106 further define the type of entity in N101. 9/24/2008 Confirmation (Ocean) - 301\\n \\nCSXI_301_004010.ecs 12 For internal use only\\n  \\nR4 Port or Terminal  Pos: 110  Max: 1\\nHeading - Mandatory  \\nLoop: R4  Elements: 4\\n  \\nUser Option (Usage): Must use  \\nPurpose: Contractual or operational port or point relevant to the movement of the cargo  \\n  \\nElement Summary:  \\n Ref Id Element Name  Req Type  Min/Max  Usage  \\n R401 115 Port or Terminal Function Code  M ID 1/1 Must use \\n      \\nDescription: Code defining function performed at the port or terminal with respect to a \\nshipment   \\n  \\n Code  Name  \\n 5 Activity Location (Operational) \\n  \\n R402 309 Location Qualifier  M ID 1/2 Must use \\n      \\nDescription: Code identifying type of location   \\n  \\n Code  Name  \\n SL U.S. SPLC \\n  \\n R403 310 Location Identifier  M AN 1/30 Must use \\n      \\nDescription: Code which identifies a specific location   \\nUser Note 1: Must contain the CSX SPLC for the terminal where you are sneding the \\nbooking. CSX can provide a SPLC list if needed.   \\n  \\n R404 114 Port Name  O AN 2/24 Used \\n      \\nDescription: Free-form name for the place at which an offshore carrier originates or \\nterminates (by transshipment or otherwise ) its actual ocean carriage of property   \\nUser Note 1: CSX recommends you send the Name of the terminal for the Booking.   \\n  \\nSyntax Rules:  \\n1. P0203 - If either R402 or R403  is  present, then the other is required. \\n \\n  \\n  \\nComments:  \\n1. R4 is required for each port to be identified. 9/24/2008 Confirmation (Ocean) - 301\\n \\nCSXI_301_004010.ecs 13 For internal use only\\n  \\nDTM  Date/Time Reference  Pos: 120  Max: 15\\nHeading - Optional  \\nLoop: R4  Elements: 3\\n  \\nUser Option (Usage): Used \\nPurpose: To specify pertinent dates and times  \\n  \\nElement Summary:  \\n Ref Id Element Name  Req Type  Min/Max  Usage  \\n DTM01 374 Date/Time Qualifier  M ID 3/3 Must use \\n      \\nDescription: Code specifying type of date or time, or both date and time   \\n  \\n DTM02 373 Date  X DT 8/8 Used \\n      \\nDescription: Date expressed as CCYYMMDD   \\n  \\n DTM03 337 Time  X TM 4/8 Used \\n      \\nDescription: Time expressed in 24-hour clock time as follows: HHMM, or HHMMSS, or \\nHHMMSSD, or HHMMSSDD, where H = hours ( 00-23), M = minutes (00-59), S = integer \\nseconds (00-59) and DD = decimal seconds; decimal seconds are expressed as follows: D = \\ntenths (0-9) and DD = hundredths (00-99)   \\n  \\nSyntax Rules:  \\n1. R020305 - At least one of DTM 02, DTM03 or DTM05 is required. \\n2. C0403 - If DTM04 is present, then DTM03 is required. \\n3. P0506 - If either DTM05 or DTM06  is present, then the other is required. \\n \\n  \\n  \\nUser Note 1:  \\nSegment is optional, current date and time wi ll default if not passed within this segment.  9/24/2008 Confirmation (Ocean) - 301\\n \\nCSXI_301_004010.ecs 14 For internal use only\\n  \\nH3 Special Handling \\nInstructions  Pos: 140  Max: 6\\nHeading - Optional  \\nLoop: N/A  Elements: 2\\n  \\nUser Option (Usage): Used \\nPurpose: To specify special handling instructions in coded or free-form format  \\n  \\nElement Summary:  \\n Ref Id Element Name  Req Type  Min/Max  Usage  \\n H301 152 Special Handling Code  X ID 2/3 Used \\n      \\nDescription: Code specifying special transportation handling instructions   \\nAll valid standard codes are used.   \\n  \\n H302 153 Special Handling Description  X AN 2/30 Used \\n      \\nDescription: Free-form additional description of spec ial handling instructions to appear on \\nprinted bill if special handling code is not adequate   \\n  \\nSyntax Rules:  \\n1. E0102 - Only one of H301 or H302 may be present. \\n \\n  9/24/2008 Confirmation (Ocean) - 301\\n \\nCSXI_301_004010.ecs 15 For internal use only\\n  \\nSE Transaction Set Trailer  Pos: 010  Max: 1\\nSummary - Mandatory  \\nLoop: N/A  Elements: 2\\n  \\nUser Option (Usage): Must use  \\nPurpose: To indicate the end of the transaction set and provid e the count of the transmitted segments (including the \\nbeginning (ST) and ending (SE) segments)  \\n  \\nElement Summary:  \\n Ref Id Element Name  Req Type  Min/Max  Usage  \\n SE01 96 Number of Included Segments  M N0 1/10 Must use \\n      \\nDescription: Total number of segments included in a transaction set including ST and SE \\nsegments   \\n  \\n SE02 329 Transaction Set Control Number  M AN 4/9 Must use \\n      \\nDescription: Identifying control number that must be unique within the transaction set \\nfunctional group assigned by the originator for a transaction set   \\n  \\n  \\n  \\nComments:  \\n1. SE is the last segment of each transaction set. 9/24/2008 Confirmation (Ocean) - 301\\n \\nCSXI_301_004010.ecs 16 For internal use only\\n  \\nGE Functional Group Trailer  Pos:  Max: 1\\nNot Defined - Mandatory  \\nLoop: N/A  Elements: 2\\n  \\nUser Option (Usage): Must use  \\nPurpose: To indicate the end of a functional group and to provide control information  \\n  \\nElement Summary:  \\n Ref Id Element Name  Req Type  Min/Max  Usage  \\n GE01 97 Number of Transaction Sets Included  M N0 1/6 Must use \\n      \\nDescription: Total number of transaction sets included in the functional group or \\ninterchange (transmission) group terminated by the trailer containing this data element   \\n  \\n GE02 28 Group Control Number  M N0 1/9 Must use \\n      \\nDescription: Assigned number originated and maintained by the sender   \\n  \\n  \\n  \\nSemantics:  \\n1. The data interchange control number GE02 in this traile r must be identical to the same data element in the \\nassociated functional group header, GS06. \\n  \\nComments:  \\n1. The use of identical data interchange control numbers in  the associated functional group header and trailer is \\ndesigned to maximize functional group integrity. T he control number is the same as that used in the \\ncorresponding header. 9/24/2008 Confirmation (Ocean) - 301\\n \\nCSXI_301_004010.ecs 17 For internal use only\\n  \\nIEA Interchange Control Trailer  Pos:  Max: 1\\nNot Defined - Mandatory  \\nLoop: N/A  Elements: 2\\n  \\nUser Option (Usage): Must use  \\nPurpose: To define the end of an interchange of zero or more f unctional groups and interchange-related control segments  \\n  \\nElement Summary:  \\n Ref Id Element Name  Req Type  Min/Max  Usage  \\n IEA01 I16 Number of Included Functional Groups  M N0 1/5 Must use \\n      \\nDescription: A count of the number of functional groups included in an interchange   \\n  \\n IEA02 I12 Interchange Control Number  M N0 9/9 Must use \\n      \\nDescription: A control number assigned by the interchange sender   \\n  \\n  \\n                                         9/24/2008 Confirmation (Ocean) - 301\\n \\nCSXI_301_004010.ecs 18 For internal use only\\n EDI 301 Example: \\n ISA*00*          *00*          *ZZ*SCAC           *ZZ*CSXINC         *080924*1300*U*00401*000000005*0*P*^ \\nGS*RO*SCAC*CSXI*2008092 4*1300*000000005*X*004010 \\nST*301*383162 B1*SCAC*TESTBOOKINGNUM*20081002*N Y3*TESTBOOKINGNUM*SCAC*20081106*20081112 Y4*TESTBOOKINGNUM*TESTBOOK NUM*20081023**99*U201*SCAC \\nN1*SH*SHIPPER NAME      or      N1*OR*DRAYMAN NAME  \\nR4*L*D*4601*NEW YORK, NY DTM*145*20081002 R4*D*K*24128*KINGSTON DTM*146*20081003 R4*M*K*21531*PUERTO CORTES R4*R*D*3901*CHICAGO, IL R4*5*SL*456388*FAIRBURN, GA H3**TEST SPECIAL INSTRUCTION 00001 H3**TEST SPECIAL INSTRUCTION 00002 H3**TEST SPECIAL INSTRUCTION 00003 H3**TEST SPECIAL INSTRUCTION 00004 H3**TEST SPECIAL INSTRUCTION 00005 H3**TEST SPECIAL INSTRUCTION 00006 SE*19*383162 GE*1*000000001 IEA*1*000000005 '"
            ],
            "application/vnd.google.colaboratory.intrinsic+json": {
              "type": "string"
            }
          },
          "metadata": {},
          "execution_count": 6
        }
      ]
    },
    {
      "cell_type": "code",
      "source": [
        "text_splitter = CharacterTextSplitter(\n",
        "    separator= '\\n',\n",
        "    chunk_size=800,\n",
        "    chunk_overlap=200,\n",
        "    length_function=len\n",
        ")\n",
        "texts = text_splitter.split_text(raw_text)"
      ],
      "metadata": {
        "id": "KZQ4Eapj3T0l"
      },
      "execution_count": 7,
      "outputs": []
    },
    {
      "cell_type": "code",
      "source": [
        "len(texts)"
      ],
      "metadata": {
        "colab": {
          "base_uri": "https://localhost:8080/"
        },
        "id": "kBmdyvIj3tUv",
        "outputId": "d5656772-6b91-4ebe-bfd2-4418339f0236"
      },
      "execution_count": 8,
      "outputs": [
        {
          "output_type": "execute_result",
          "data": {
            "text/plain": [
              "46"
            ]
          },
          "metadata": {},
          "execution_count": 8
        }
      ]
    },
    {
      "cell_type": "code",
      "source": [
        "embeddings = OpenAIEmbeddings(openai_api_key=os.environ[\"OPEN_API_KEY\"])"
      ],
      "metadata": {
        "colab": {
          "base_uri": "https://localhost:8080/"
        },
        "id": "BezKnnz-319e",
        "outputId": "acd4abf7-521a-459a-a2b1-0301d2f582de"
      },
      "execution_count": 9,
      "outputs": [
        {
          "output_type": "stream",
          "name": "stderr",
          "text": [
            "<ipython-input-9-3901eddd41b2>:1: LangChainDeprecationWarning: The class `OpenAIEmbeddings` was deprecated in LangChain 0.0.9 and will be removed in 1.0. An updated version of the class exists in the :class:`~langchain-openai package and should be used instead. To use it run `pip install -U :class:`~langchain-openai` and import as `from :class:`~langchain_openai import OpenAIEmbeddings``.\n",
            "  embeddings = OpenAIEmbeddings(openai_api_key=os.environ[\"OPEN_API_KEY\"])\n"
          ]
        }
      ]
    },
    {
      "cell_type": "code",
      "source": [
        "document_search = FAISS.from_texts(texts, embeddings)"
      ],
      "metadata": {
        "id": "2HqYjdSs37i8"
      },
      "execution_count": 10,
      "outputs": []
    },
    {
      "cell_type": "code",
      "source": [
        "from langchain.chains.question_answering import load_qa_chain\n",
        "from langchain_openai import OpenAI"
      ],
      "metadata": {
        "id": "QCwsdOl47UXF"
      },
      "execution_count": 14,
      "outputs": []
    },
    {
      "cell_type": "code",
      "source": [
        "chain = load_qa_chain(OpenAI(openai_api_key=os.environ[\"OPEN_API_KEY\"]), chain_type=\"stuff\")"
      ],
      "metadata": {
        "colab": {
          "base_uri": "https://localhost:8080/"
        },
        "id": "dOoPdOuq9Kpp",
        "outputId": "c1a5dd2f-1380-412f-ac76-6beaec5f5142"
      },
      "execution_count": 16,
      "outputs": [
        {
          "output_type": "stream",
          "name": "stderr",
          "text": [
            "<ipython-input-16-c7e9059d2c45>:1: LangChainDeprecationWarning: This class is deprecated. See the following migration guides for replacements based on `chain_type`:\n",
            "stuff: https://python.langchain.com/docs/versions/migrating_chains/stuff_docs_chain\n",
            "map_reduce: https://python.langchain.com/docs/versions/migrating_chains/map_reduce_chain\n",
            "refine: https://python.langchain.com/docs/versions/migrating_chains/refine_chain\n",
            "map_rerank: https://python.langchain.com/docs/versions/migrating_chains/map_rerank_docs_chain\n",
            "\n",
            "See also guides on retrieval and question-answering here: https://python.langchain.com/docs/how_to/#qa-with-rag\n",
            "  chain = load_qa_chain(OpenAI(openai_api_key=os.environ[\"OPEN_API_KEY\"]), chain_type=\"stuff\")\n"
          ]
        }
      ]
    },
    {
      "cell_type": "code",
      "source": [
        "query = \"What is ISA02?\"\n",
        "docs = document_search.similarity_search(query)\n",
        "chain.run(input_documents=docs, question=query)"
      ],
      "metadata": {
        "colab": {
          "base_uri": "https://localhost:8080/",
          "height": 35
        },
        "id": "U0TV-gFB943t",
        "outputId": "ce20e537-f4c0-4dd5-95d2-1abe646c92b2"
      },
      "execution_count": 18,
      "outputs": [
        {
          "output_type": "execute_result",
          "data": {
            "text/plain": [
              "' ISA02 is the Authorization Information element, which is used for additional identification or authorization of the interchange sender or data in the interchange. Its value is determined by the Authorization Information Qualifier (I01).'"
            ],
            "application/vnd.google.colaboratory.intrinsic+json": {
              "type": "string"
            }
          },
          "metadata": {},
          "execution_count": 18
        }
      ]
    }
  ]
}